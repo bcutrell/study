{
 "cells": [
  {
   "cell_type": "code",
   "execution_count": 1,
   "metadata": {
    "collapsed": true
   },
   "outputs": [],
   "source": [
    "import numpy as np\n",
    "from numpy.random import randn\n",
    "import pandas as pd\n",
    "from scipy import stats\n",
    "import matplotlib as mpl\n",
    "import matplotlib.pyplot as plt\n",
    "import seaborn as sns\n",
    "%matplotlib inline"
   ]
  },
  {
   "cell_type": "markdown",
   "metadata": {},
   "source": [
    "### Discrete Uniform Distribution\n",
    "\n",
    "Definition: A random variable X has a discrete uniform distribution if each of the n values in its range: x1,x2,x3....xn has equal probability:\n",
    "\n",
    "f(xi)=1/n"
   ]
  },
  {
   "cell_type": "code",
   "execution_count": 2,
   "metadata": {},
   "outputs": [
    {
     "data": {
      "text/plain": [
       "<matplotlib.text.Text at 0x114590cf8>"
      ]
     },
     "execution_count": 2,
     "metadata": {},
     "output_type": "execute_result"
    },
    {
     "data": {
      "image/png": "[encoded data removed]",
      "text/plain": [
       "<matplotlib.figure.Figure at 0x1111cf710>"
      ]
     },
     "metadata": {},
     "output_type": "display_data"
    }
   ],
   "source": [
    "# How about a roll of a dice?\n",
    "roll_options = [1,2,3,4,5,6]\n",
    "\n",
    "# Total probability space\n",
    "tprob = 1\n",
    "\n",
    "# Each roll has same odds of appearing (on a fair die at least)\n",
    "prob_roll = tprob / len(roll_options)\n",
    "\n",
    "uni_plot = sns.rugplot(roll_options,height=prob_roll,c='indianred')\n",
    "uni_plot.set_title('Probability Mass Function for Dice Roll')"
   ]
  },
  {
   "cell_type": "markdown",
   "metadata": {},
   "source": [
    "The mean is simply the max and min value divided by two, just like the mean of two numbers.\n",
    "b=high bound\n",
    "a=low bound\n",
    "\n",
    "μ=(b+a)/2\n",
    "With a variance of:\n",
    "\n",
    "σ2=(b−a+1)^2−1 / 12"
   ]
  },
  {
   "cell_type": "markdown",
   "metadata": {},
   "source": [
    "German Tank Problem\n",
    "\n",
    "Using a Minimum-variance unbiased estimator we obtain the population max is equal to :\n",
    "Populationmax=samplemax+(samplemax/samplesize)−1"
   ]
  },
  {
   "cell_type": "code",
   "execution_count": 4,
   "metadata": {},
   "outputs": [
    {
     "name": "stdout",
     "output_type": "stream",
     "text": [
      "18.2\n",
      "20.0\n"
     ]
    }
   ],
   "source": [
    "tank_estimate = 16 + (16/5) - 1\n",
    "print(tank_estimate)\n",
    "\n",
    "# Bayseian approach\n",
    "m=16\n",
    "k=5\n",
    "tank_b_estimate = (m-1)*( (k-1)/ ( k-2) )\n",
    "print(tank_b_estimate)"
   ]
  },
  {
   "cell_type": "markdown",
   "metadata": {},
   "source": [
    "### Continous Uniform Distributions\n",
    "A continous random variable X with a probability density function is a continous uniform random variable when:\n",
    "f(x)=1(b−a)\n",
    "a<=x<=b\n",
    "\n",
    "mean:\n",
    "    (a+b)/2\n",
    "\n",
    "variance:\n",
    "    σ2=(b−a)^2/12"
   ]
  },
  {
   "cell_type": "code",
   "execution_count": 7,
   "metadata": {},
   "outputs": [
    {
     "name": "stdout",
     "output_type": "stream",
     "text": [
      "The probability density function results in 0.125\n"
     ]
    }
   ],
   "source": [
    "# So what would an example problem look like? Let's say on average, \n",
    "# a taxi ride in NYC takes 22 minutes. After taking some time measurements from experiments \n",
    "# we gather that all the taxi rides are uniformly distributed between 19 and 27 minutes. \n",
    "# What is the probability density function of a taxi ride, or f(x)?\n",
    "\n",
    "#Lower bound time\n",
    "a = 19\n",
    "\n",
    "#Upper bound time\n",
    "b = 27\n",
    "\n",
    "#Then using our probability density function we get\n",
    "fx = 1.0/(b-a)\n",
    "\n",
    "#show \n",
    "print('The probability density function results in %1.3f' %fx)"
   ]
  },
  {
   "cell_type": "code",
   "execution_count": 8,
   "metadata": {},
   "outputs": [
    {
     "name": "stdout",
     "output_type": "stream",
     "text": [
      "The variance of the continous unifrom distribution is 5.3\n"
     ]
    }
   ],
   "source": [
    "var = ((b-a)**2 )/12\n",
    "print('The variance of the continous unifrom distribution is %1.1f' %var)"
   ]
  },
  {
   "cell_type": "code",
   "execution_count": 9,
   "metadata": {},
   "outputs": [
    {
     "name": "stdout",
     "output_type": "stream",
     "text": [
      " The probability that the taxi ride will last at least 25 minutes is 25.0%\n"
     ]
    }
   ],
   "source": [
    "#f(27)\n",
    "fx_1 = 27.0/(b-a)\n",
    "#f(25)\n",
    "fx_2 = 25.0/(b-a)\n",
    "\n",
    "ans = fx_1-fx_2\n",
    "print(' The probability that the taxi ride will last at least 25 minutes is %2.1f%%' %(100*ans))"
   ]
  },
  {
   "cell_type": "code",
   "execution_count": 10,
   "metadata": {},
   "outputs": [
    {
     "data": {
      "text/plain": [
       "[<matplotlib.lines.Line2D at 0x114797048>]"
      ]
     },
     "execution_count": 10,
     "metadata": {},
     "output_type": "execute_result"
    },
    {
     "data": {
      "image/png": "[encoded data removed]",
      "text/plain": [
       "<matplotlib.figure.Figure at 0x114585470>"
      ]
     },
     "metadata": {},
     "output_type": "display_data"
    }
   ],
   "source": [
    "from scipy.stats import uniform\n",
    "import numpy as np\n",
    "\n",
    "#Let's set an A and B\n",
    "A=0\n",
    "B=5\n",
    "\n",
    "# Set x as 100 linearly spaced points between A and B\n",
    "x = np.linspace(A,B,100)\n",
    "\n",
    "# Use uniform(loc=start point,scale=endpoint)\n",
    "rv = uniform(loc=A,scale=B)\n",
    "\n",
    "#Plot the PDF of that uniform distirbution\n",
    "plt.plot(x,rv.pdf(x))"
   ]
  },
  {
   "cell_type": "markdown",
   "metadata": {},
   "source": [
    "### Binomial Distrubtion"
   ]
  },
  {
   "cell_type": "code",
   "execution_count": 2,
   "metadata": {},
   "outputs": [
    {
     "name": "stdout",
     "output_type": "stream",
     "text": [
      " The probability of player A making 6 shots in an average game is 11.1% \n",
      " \n",
      "\n",
      " The probability of player B making 6 shots in an average game is 17.0% \n"
     ]
    }
   ],
   "source": [
    "# Set up player A\n",
    "\n",
    "# Probability of success for A\n",
    "p_A = .72\n",
    "# Number of shots for A\n",
    "n_A = 11\n",
    "\n",
    "# Make 6 shots\n",
    "k = 6\n",
    "\n",
    "# Now import scipy for combination\n",
    "import scipy.misc as sc\n",
    "\n",
    "# Set up C(n,k)\n",
    "comb_A = sc.comb(n_A,k)\n",
    "\n",
    "# Now put it together to get the probability!\n",
    "answer_A = comb_A * (p_A**k) * ((1-p_A)**(n_A-k))\n",
    "\n",
    "# Put the answer in percentage form!\n",
    "answer_A = 100*answer_A\n",
    "\n",
    "\n",
    "# Quickly repeat all steps for Player B\n",
    "p_B = .48\n",
    "n_B = 15\n",
    "comb_B = sc.comb(n_B,k)\n",
    "answer_B = 100 * comb_B * (p_B**k) * ((1-p_B)**(n_B-k))\n",
    "\n",
    "\n",
    "#Print Answers\n",
    "print(' The probability of player A making 6 shots in an average game is %1.1f%% ' %answer_A)\n",
    "print(' \\n')\n",
    "print(' The probability of player B making 6 shots in an average game is %1.1f%% ' %answer_B)"
   ]
  },
  {
   "cell_type": "code",
   "execution_count": 3,
   "metadata": {},
   "outputs": [
    {
     "name": "stdout",
     "output_type": "stream",
     "text": [
      " \n",
      "\n",
      " The probability of player A making 9 shots in an average game is 22.4% \n",
      "\n",
      "\n",
      " The probability of player B making 9 shots in an average game is 13.4% \n",
      "\n",
      "\n"
     ]
    }
   ],
   "source": [
    "#Set number of shots\n",
    "k = 9\n",
    "\n",
    "#Set new combinations\n",
    "comb_A = sc.comb(n_A,k)\n",
    "comb_B = sc.comb(n_B,k)\n",
    "\n",
    "# Everything else remains the same\n",
    "answer_A = 100 * comb_A * (p_A**k) * ((1-p_A)**(n_A-k))\n",
    "answer_B = 100 * comb_B * (p_B**k) * ((1-p_B)**(n_B-k))\n",
    "\n",
    "#Print Answers\n",
    "print(' \\n')\n",
    "print(' The probability of player A making 9 shots in an average game is %1.1f%% ' %answer_A)\n",
    "print('\\n')\n",
    "print(' The probability of player B making 9 shots in an average game is %1.1f%% ' %answer_B)\n",
    "print('\\n')"
   ]
  },
  {
   "cell_type": "code",
   "execution_count": 4,
   "metadata": {},
   "outputs": [
    {
     "name": "stdout",
     "output_type": "stream",
     "text": [
      "\n",
      "\n",
      "Player A will make an average of 8 +/- 1 shots per game\n",
      "\n",
      "\n",
      "Player B will make an average of 7 +/- 2 shots per game\n",
      "\n",
      "\n",
      "NOTE: It's impossible to make a decimal of a shot so '%1.0f' was used to replace the float!\n"
     ]
    }
   ],
   "source": [
    "# Let's go ahead and plug in to the formulas.\n",
    "\n",
    "# Get the mean\n",
    "mu_A = n_A *p_A\n",
    "mu_B = n_B *p_B\n",
    "\n",
    "#Get the standard deviation\n",
    "sigma_A = ( n_A *p_A*(1-p_A) )**0.5\n",
    "sigma_B = ( n_B *p_B*(1-p_B) )**0.5\n",
    "\n",
    "# Now print results\n",
    "print('\\n')\n",
    "print('Player A will make an average of %1.0f +/- %1.0f shots per game' %(mu_A,sigma_A))\n",
    "print('\\n')\n",
    "print('Player B will make an average of %1.0f +/- %1.0f shots per game' %(mu_B,sigma_B))\n",
    "print('\\n')\n",
    "print(\"NOTE: It's impossible to make a decimal of a shot so '%1.0f' was used to replace the float!\")\n"
   ]
  },
  {
   "cell_type": "markdown",
   "metadata": {},
   "source": [
    "### Poisson Distribution\n",
    "Let's say a McDonald's has a lunch rush from 12:30pm to 1:00pm. From looking at customer sales from previous days, we know that on average 10 customers enter during 12:30pm to 1:00pm. What is the probability that exactly 7 customers enter during lunch rush? What is the probability that more than 10 customers arrive?\n",
    "\n",
    "Let's begin by thinking about how many customers we expect to come into McDonald's during lunch rush. Well we were actually already given that information, it's 10. This means that the mean is 10, then our expected value E(X)=10. In the Poisson distribution this is λ. So the mean = λ for a Poisson Distribution, it is the expected number of occurences over the specfied interval.\n",
    "\n",
    "So since we now know what λ is, we can plug the information into the probability mass function and get an answer, let's use python and see how this works. Let's start off by answering the first question:\n",
    "\n",
    "What is the probability that exactly 7 customers enter during lunch rush?"
   ]
  },
  {
   "cell_type": "code",
   "execution_count": 6,
   "metadata": {},
   "outputs": [
    {
     "name": "stdout",
     "output_type": "stream",
     "text": [
      " There is a 9.01 % chance that exactly 7 customers show up at the lunch rush\n"
     ]
    }
   ],
   "source": [
    "# Note do not use lambda as an object name in python! It is already used for special lambda functions in Python!!\n",
    "\n",
    "# Set lambda\n",
    "lamb = 10\n",
    "\n",
    "# Set k to the number of occurences\n",
    "k=7\n",
    "\n",
    "#Set up e and factorial math statements\n",
    "from math import exp\n",
    "from math import factorial\n",
    "from __future__ import division\n",
    "\n",
    "# Now put the probability mass function\n",
    "prob = (lamb**k)*exp(-lamb)/factorial(k)\n",
    "\n",
    "# Put into percentage form and print answer\n",
    "print(' There is a %2.2f %% chance that exactly 7 customers show up at the lunch rush' %(100*prob))"
   ]
  },
  {
   "cell_type": "markdown",
   "metadata": {},
   "source": [
    "### Normal Distribution\n",
    "Let's look at the curve. The normal distribution has several characteristics:\n",
    "\n",
    "1.) It has a lower tail (on the left) and an upper tail (on the right)\n",
    "2.) The curve is symmetric (for the theoretical distribution)\n",
    "3.) The peak occurs at the mean.\n",
    "4.) The standard deviation gives the curve a different shape:\n",
    "    -Narrow and tall for a smaller standard deviation.\n",
    "    -Shallower and fatter for a larger standard deviation.\n",
    "5.) The area under the curve is equal to 1 (the total probaility space)\n",
    "6.) The mean=median=mode.\n",
    "For the normal distribution, we can see what percentage of values lie between +/- a standard deviation. 68% of the values lie within 1 TSD, 95% between 2 STDs, and 99.7% between 3 STDs. The number of standard deviations is also called the z-score, which we saw above in the PDF."
   ]
  },
  {
   "cell_type": "code",
   "execution_count": 7,
   "metadata": {},
   "outputs": [
    {
     "data": {
      "text/html": [
       "<img src=\"http://upload.wikimedia.org/wikipedia/commons/thumb/2/25/The_Normal_Distribution.svg/725px-The_Normal_Distribution.svg.png\"/>"
      ],
      "text/plain": [
       "<IPython.core.display.Image object>"
      ]
     },
     "execution_count": 7,
     "metadata": {},
     "output_type": "execute_result"
    }
   ],
   "source": [
    "from IPython.display import Image\n",
    "Image(url='http://upload.wikimedia.org/wikipedia/commons/thumb/2/25/The_Normal_Distribution.svg/725px-The_Normal_Distribution.svg.png')"
   ]
  },
  {
   "cell_type": "code",
   "execution_count": 9,
   "metadata": {},
   "outputs": [
    {
     "data": {
      "text/plain": [
       "[<matplotlib.lines.Line2D at 0x119dfebe0>]"
      ]
     },
     "execution_count": 9,
     "metadata": {},
     "output_type": "execute_result"
    },
    {
     "data": {
      "image/png": "[encoded data removed]",
      "text/plain": [
       "<matplotlib.figure.Figure at 0x1168ef2b0>"
      ]
     },
     "metadata": {},
     "output_type": "display_data"
    }
   ],
   "source": [
    "import numpy as np\n",
    "import matplotlib as mpl\n",
    "import matplotlib.pyplot as plt\n",
    "%matplotlib inline\n",
    "\n",
    "#Import the stats library\n",
    "from scipy import stats\n",
    "\n",
    "# Set the mean\n",
    "mean = 0\n",
    "\n",
    "#Set the standard deviation\n",
    "std = 1\n",
    "\n",
    "\n",
    "# Create a range\n",
    "X = np.arange(-4,4,0.01)\n",
    "\n",
    "#Create the normal distribution for the range\n",
    "Y = stats.norm.pdf(X,mean,std)\n",
    "\n",
    "#\n",
    "plt.plot(X,Y)"
   ]
  },
  {
   "cell_type": "markdown",
   "metadata": {
    "collapsed": true
   },
   "source": [
    "### T-Distribution\n",
    "Used when n<30, otherwise use normal distribution"
   ]
  },
  {
   "cell_type": "code",
   "execution_count": 2,
   "metadata": {},
   "outputs": [
    {
     "data": {
      "text/plain": [
       "[<matplotlib.lines.Line2D at 0x1147042e8>]"
      ]
     },
     "execution_count": 2,
     "metadata": {},
     "output_type": "execute_result"
    },
    {
     "data": {
      "image/png": "[encoded data removed]",
      "text/plain": [
       "<matplotlib.figure.Figure at 0x1092ceb70>"
      ]
     },
     "metadata": {},
     "output_type": "display_data"
    }
   ],
   "source": [
    "#Import for plots\n",
    "import matplotlib.pyplot as plt\n",
    "%matplotlib inline\n",
    "\n",
    "#Import the stats library\n",
    "from scipy.stats import t\n",
    "\n",
    "#import numpy\n",
    "import numpy as np\n",
    "\n",
    "# Create x range\n",
    "x = np.linspace(-5,5,100)\n",
    "\n",
    "# Create the t distribution with scipy\n",
    "rv = t(3)\n",
    "\n",
    "# Plot the PDF versus the x range\n",
    "plt.plot(x, rv.pdf(x))"
   ]
  },
  {
   "cell_type": "markdown",
   "metadata": {},
   "source": [
    "### Hypothesis Testing\n",
    "Hypothesis testing is the use of statistics to determine the probability that a given hypothesis is true.\n",
    "\n",
    "Hypothesis Testing can be broken into 10 basic steps.\n",
    "\n",
    "1.) Data Testing\n",
    "2.) Assumptions\n",
    "3.) Hypothesis\n",
    "4.) Test Statistic\n",
    "5.) Distribution of Test Statistic\n",
    "6.) Decision Rule\n",
    "7.) Calculation of Test Statistic\n",
    "8.) Statistical Decision\n",
    "9.) Conclusion\n",
    "10.) p-values"
   ]
  },
  {
   "cell_type": "code",
   "execution_count": null,
   "metadata": {
    "collapsed": true
   },
   "outputs": [],
   "source": []
  }
 ],
 "metadata": {
  "kernelspec": {
   "display_name": "Python 3 Conda",
   "language": "python",
   "name": "python3_conda"
  },
  "language_info": {
   "codemirror_mode": {
    "name": "ipython",
    "version": 3
   },
   "file_extension": ".py",
   "mimetype": "text/x-python",
   "name": "python",
   "nbconvert_exporter": "python",
   "pygments_lexer": "ipython3",
   "version": "3.6.0"
  }
 },
 "nbformat": 4,
 "nbformat_minor": 2
}
